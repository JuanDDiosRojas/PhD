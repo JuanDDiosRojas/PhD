{
 "cells": [
  {
   "cell_type": "code",
   "execution_count": 1,
   "id": "a96a007a",
   "metadata": {},
   "outputs": [],
   "source": [
    "import numpy as np\n",
    "import matplotlib.pyplot as plt\n",
    "\n",
    "# --- Dependencias de lenstronomy y astropy ---\n",
    "from astropy import units as u\n",
    "from astropy.constants import G, c\n",
    "from astropy.cosmology import FlatLambdaCDM\n",
    "\n",
    "from lenstronomy.Util.param_util import phi_q2_ellipticity, shear_polar2cartesian\n",
    "from lenstronomy.Data.pixel_grid import PixelGrid\n",
    "from lenstronomy.Data.psf import PSF\n",
    "from lenstronomy.LightModel.light_model import LightModel\n",
    "from lenstronomy.LensModel.lens_model import LensModel\n",
    "from lenstronomy.PointSource.point_source import PointSource\n",
    "from lenstronomy.ImSim.image_model import ImageModel\n",
    "import lenstronomy.Util.image_util as image_util"
   ]
  },
  {
   "cell_type": "markdown",
   "id": "a53a6666",
   "metadata": {},
   "source": [
    "In this block we:\n",
    "\n",
    "1. **Define the lens and source redshifts** (`z_lens` and `z_source`) to match the system studied in Vegetti et al. (JVAS B1938+666 at $z=0.881$ and background source at $z=2.059$).  \n",
    "2. **Instantiate a flat $\\Lambda$CDM cosmology** with $H_0 = 70\\;\\mathrm{km\\,s^{-1}\\,Mpc^{-1}}$, $\\Omega_m = 0.3$, and $\\Omega_b = 0.048$.  \n",
    "3. **Compute the angular diameter distances**:\n",
    "   - $D_d$: from observer to lens  \n",
    "   - $D_s$: from observer to source  \n",
    "   - $D_{ds}$: from lens to source  \n",
    "\n",
    "These distances are crucial for converting between physical masses and angular scales—most importantly to calculate the Einstein radius of the subhalo via  \n",
    "\n",
    "$$\n",
    "\\theta_E = \\sqrt{\\frac{4G\\,M}{c^2}\\,\\frac{D_{ds}}{D_d\\,D_s}}\n",
    "$$\n",
    "\n",
    "and for any further lensing–cosmology conversions in the simulation.\n"
   ]
  },
  {
   "cell_type": "code",
   "execution_count": 2,
   "id": "71bc94d0",
   "metadata": {},
   "outputs": [],
   "source": [
    "# --- Parámetros cosmológicos y distancias ---\n",
    "z_lens, z_source = 0.881, 2.059\n",
    "cosmo = FlatLambdaCDM(H0=70, Om0=0.3, Ob0=0.048)\n",
    "D_d  = cosmo.angular_diameter_distance(z_lens)\n",
    "D_s  = cosmo.angular_diameter_distance(z_source)\n",
    "D_ds = cosmo.angular_diameter_distance_z1z2(z_lens, z_source)\n"
   ]
  },
  {
   "cell_type": "markdown",
   "id": "e1ef024e",
   "metadata": {},
   "source": [
    "In this block we:\n",
    "\n",
    "1. **Set the angular pixel scale** (`deltaPix = 0.05″/pixel`), defining how many arcseconds each pixel spans.  \n",
    "2. **Choose the sky coordinates of the top-left corner** (`ra_at_xy_0 = –2.5″`, `dec_at_xy_0 = –2.5″`), so that a 100×100 grid covers a 5″×5″ field centered at (0,0).  \n",
    "3. **Build the WCS linear transformation** matrix  \n",
    "   $$\n",
    "     \\begin{pmatrix}\n",
    "       \\Delta\\text{RA}_x & 0\\\\\n",
    "       0 & \\Delta\\text{DEC}_y\n",
    "     \\end{pmatrix}\n",
    "     = \\Delta_{\\rm pix}\\times I\n",
    "   $$\n",
    "   which maps integer pixel shifts into sky‐angle shifts.  \n",
    "4. **Instantiate `PixelGrid`** with these parameters, creating two 100×100 arrays (`x_coords`, `y_coords`) that give the RA/DEC of every pixel center.  \n",
    "\n",
    "This object is the foundation for all ray‐tracing and surface‐brightness evaluations, ensuring that every model component uses the same angular coordinate system.  \n"
   ]
  },
  {
   "cell_type": "code",
   "execution_count": null,
   "id": "f263cf91",
   "metadata": {},
   "outputs": [],
   "source": []
  }
 ],
 "metadata": {
  "kernelspec": {
   "display_name": "lensenv",
   "language": "python",
   "name": "python3"
  },
  "language_info": {
   "codemirror_mode": {
    "name": "ipython",
    "version": 3
   },
   "file_extension": ".py",
   "mimetype": "text/x-python",
   "name": "python",
   "nbconvert_exporter": "python",
   "pygments_lexer": "ipython3",
   "version": "3.10.12"
  }
 },
 "nbformat": 4,
 "nbformat_minor": 5
}
